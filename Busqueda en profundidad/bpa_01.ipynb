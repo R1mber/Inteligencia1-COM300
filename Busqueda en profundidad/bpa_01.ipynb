{
 "cells": [
  {
   "cell_type": "code",
   "execution_count": 1,
   "metadata": {},
   "outputs": [],
   "source": [
    "# Busqueda en Amplitud - Breadth First Search\n",
    "from Nodos import Nodo\n",
    "\n",
    "\n",
    "def busqueda_BPA_solucion(estado_inicial, solucion):\n",
    "    resuelto = False\n",
    "    nodos_visitados = []\n",
    "    nodos_frontera = []\n",
    "\n",
    "    nodo_raiz = Nodo(estado_inicial)\n",
    "    nodos_frontera.append(nodo_raiz)\n",
    "    while (not resuelto) and len(nodos_frontera) != 0:\n",
    "        nodo_actual = nodos_frontera.pop()\n",
    "        # extraer nodo y añadirlo a visitados\n",
    "        nodos_visitados.append(nodo_actual)\n",
    "        if nodo_actual.get_estado() == solucion:\n",
    "            # solucion encontrada\n",
    "            resuelto = True\n",
    "            return nodo_actual\n",
    "        else:\n",
    "            # expandir nodos hijo\n",
    "            estado_nodo = nodo_actual.get_estado()\n",
    "\n",
    "            # operador 1\n",
    "            hijo = [estado_nodo[1], estado_nodo[0], estado_nodo[2], estado_nodo[3], estado_nodo[4], estado_nodo[5],estado_nodo[6],estado_nodo[7]]\n",
    "            hijo_1 = Nodo(hijo)\n",
    "            if not hijo_1.en_lista(nodos_visitados) and not hijo_1.en_lista(nodos_frontera):\n",
    "                nodos_frontera.append(hijo_1)\n",
    "\n",
    "            # operador 2\n",
    "            hijo = [estado_nodo[0], estado_nodo[2], estado_nodo[1], estado_nodo[3], estado_nodo[4], estado_nodo[5],estado_nodo[6],estado_nodo[7]]\n",
    "            hijo_2 = Nodo(hijo)\n",
    "            if not hijo_2.en_lista(nodos_visitados) and not hijo_2.en_lista(nodos_frontera):\n",
    "                nodos_frontera.append(hijo_2)\n",
    "\n",
    "            # operador 3\n",
    "            hijo = [estado_nodo[0], estado_nodo[1], estado_nodo[3], estado_nodo[2], estado_nodo[4], estado_nodo[5],estado_nodo[6],estado_nodo[7]]\n",
    "            hijo_3 = Nodo(hijo)\n",
    "            if not hijo_3.en_lista(nodos_visitados) and not hijo_3.en_lista(nodos_frontera):\n",
    "                nodos_frontera.append(hijo_3)\n",
    "                            # operador 4\n",
    "            hijo = [estado_nodo[0], estado_nodo[1], estado_nodo[2], estado_nodo[4], estado_nodo[3], estado_nodo[5],estado_nodo[6],estado_nodo[7]]\n",
    "            hijo_4 = Nodo(hijo)\n",
    "            if not hijo_4.en_lista(nodos_visitados) and not hijo_4.en_lista(nodos_frontera):\n",
    "                nodos_frontera.append(hijo_4)\n",
    "                            # operador 5\n",
    "            hijo = [estado_nodo[0], estado_nodo[1], estado_nodo[2], estado_nodo[3], estado_nodo[5], estado_nodo[4],estado_nodo[6],estado_nodo[7]]\n",
    "            hijo_5 = Nodo(hijo)\n",
    "            if not hijo_5.en_lista(nodos_visitados) and not hijo_5.en_lista(nodos_frontera):\n",
    "                nodos_frontera.append(hijo_5)\n",
    "                            # operador 6\n",
    "            hijo = [estado_nodo[0], estado_nodo[1], estado_nodo[2], estado_nodo[3], estado_nodo[4], estado_nodo[6],estado_nodo[4],estado_nodo[7]]\n",
    "            hijo_6 = Nodo(hijo)\n",
    "            if not hijo_6.en_lista(nodos_visitados) and not hijo_6.en_lista(nodos_frontera):\n",
    "                nodos_frontera.append(hijo_6)\n",
    "                            # operador 7\n",
    "            hijo = [estado_nodo[0], estado_nodo[1], estado_nodo[2], estado_nodo[3], estado_nodo[4], estado_nodo[5],estado_nodo[7],estado_nodo[6]]\n",
    "            hijo_7 = Nodo(hijo)\n",
    "            if not hijo_7.en_lista(nodos_visitados) and not hijo_7.en_lista(nodos_frontera):\n",
    "                nodos_frontera.append(hijo_7)\n",
    "\n",
    "            nodo_actual.set_hijo([hijo_1, hijo_2, hijo_3, hijo_4, hijo_5, hijo_6, hijo_7])"
   ]
  },
  {
   "cell_type": "code",
   "execution_count": 2,
   "metadata": {},
   "outputs": [
    {
     "name": "stdout",
     "output_type": "stream",
     "text": [
      "[[1, 2, 3, 4, 5, 6, 8, 7], [1, 2, 3, 4, 5, 6, 7, 8]]\n"
     ]
    }
   ],
   "source": [
    "if __name__ == \"__main__\":\n",
    "    estado_inicial = [1, 2, 3, 4, 5, 6, 8, 7]\n",
    "    solucion = [1, 2, 3, 4, 5, 6, 7, 8 ]\n",
    "    nodo_solucion = busqueda_BPA_solucion(estado_inicial, solucion)\n",
    "    # mostrar resultado\n",
    "    resultado = []\n",
    "    nodo_actual = nodo_solucion\n",
    "    while nodo_actual.get_padre() is not None:\n",
    "        resultado.append(nodo_actual.get_estado())\n",
    "        nodo_actual = nodo_actual.get_padre()\n",
    "\n",
    "    resultado.append(estado_inicial)\n",
    "    resultado.reverse()\n",
    "    print(resultado)"
   ]
  },
  {
   "cell_type": "code",
   "execution_count": null,
   "metadata": {},
   "outputs": [],
   "source": []
  }
 ],
 "metadata": {
  "kernelspec": {
   "display_name": "Python 3",
   "language": "python",
   "name": "python3"
  },
  "language_info": {
   "codemirror_mode": {
    "name": "ipython",
    "version": 3
   },
   "file_extension": ".py",
   "mimetype": "text/x-python",
   "name": "python",
   "nbconvert_exporter": "python",
   "pygments_lexer": "ipython3",
   "version": "3.8.5"
  }
 },
 "nbformat": 4,
 "nbformat_minor": 4
}
