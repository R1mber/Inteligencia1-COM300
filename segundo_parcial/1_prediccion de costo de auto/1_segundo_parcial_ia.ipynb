{
  "nbformat": 4,
  "nbformat_minor": 0,
  "metadata": {
    "colab": {
      "name": "1_segundo_parcial_ia.ipynb",
      "provenance": []
    },
    "kernelspec": {
      "name": "python3",
      "display_name": "Python 3"
    },
    "language_info": {
      "name": "python"
    }
  },
  "cells": [
    {
      "cell_type": "code",
      "execution_count": 2,
      "metadata": {
        "id": "UIJE69b7GVIa"
      },
      "outputs": [],
      "source": [
        "import os\n",
        "import numpy as np\n",
        "from matplotlib import pyplot\n"
      ]
    },
    {
      "cell_type": "code",
      "source": [
        "data = np.genfromtxt('/content/DATASET_autos_preparado.csv', delimiter=',')\n",
        "X, y = data[0:, 0:7], data[:,7]\n",
        "m = y.size"
      ],
      "metadata": {
        "id": "dtaG1L7lJ9Kw"
      },
      "execution_count": 3,
      "outputs": []
    },
    {
      "cell_type": "markdown",
      "source": [
        "Le agregamos una columna de unos"
      ],
      "metadata": {
        "id": "BOAlYuO8PWKn"
      }
    },
    {
      "cell_type": "code",
      "source": [
        "X = np.concatenate([np.ones((m, 1)), X], axis=1)"
      ],
      "metadata": {
        "id": "2yDdi4OuNL_i"
      },
      "execution_count": 4,
      "outputs": []
    },
    {
      "cell_type": "markdown",
      "source": [
        "Utilizamos la ecuacion de la normal y que cumple los requisitos y nos permitira tener una mayor presicion"
      ],
      "metadata": {
        "id": "p5QQ3n_1PIg0"
      }
    },
    {
      "cell_type": "code",
      "source": [
        "def normalEqn(X, y):\n",
        "    theta = np.zeros(X.shape[1])\n",
        "    theta = np.dot(np.dot(np.linalg.inv(np.dot(X.T,X)),X.T),y)\n",
        "    return theta"
      ],
      "metadata": {
        "id": "34iJSVUjO9xW"
      },
      "execution_count": 5,
      "outputs": []
    },
    {
      "cell_type": "markdown",
      "source": [
        "calculamos los valores de theta"
      ],
      "metadata": {
        "id": "33PZhf5mPy2q"
      }
    },
    {
      "cell_type": "code",
      "source": [
        "theta = normalEqn(X, y);\n",
        "\n",
        "# Muestra los resultados optenidos a partir de la aplicación de la ecuación de la normal\n",
        "print('Theta calculado a partir de la ecuación de la normal: {:s}'.format(str(theta)));"
      ],
      "metadata": {
        "colab": {
          "base_uri": "https://localhost:8080/"
        },
        "id": "zxX15NBJPnN9",
        "outputId": "553343d9-7a06-4400-d2ae-bb4231177bfa"
      },
      "execution_count": 6,
      "outputs": [
        {
          "output_type": "stream",
          "name": "stdout",
          "text": [
            "Theta calculado a partir de la ecuación de la normal: [-1.43391774e+06 -3.09222447e+02  7.24037847e+02  2.36088822e+03\n",
            "  1.59198183e+03 -4.39810655e+03  4.03191390e+03 -3.66137303e+03]\n"
          ]
        }
      ]
    },
    {
      "cell_type": "code",
      "source": [
        "data = np.genfromtxt('/content/DATASET_TEST.csv', delimiter=',')\n",
        "X_test, y_test = data[0:, 0:7], data[:,7]\n",
        "m=y_test.size"
      ],
      "metadata": {
        "id": "ZrW4vocQQQwB"
      },
      "execution_count": 7,
      "outputs": []
    },
    {
      "cell_type": "code",
      "source": [
        "X_test = np.asarray(X_test)\n",
        "print(X_test.shape)\n",
        "X_test = np.concatenate([np.ones((m, 1)), X_test], axis=1)"
      ],
      "metadata": {
        "colab": {
          "base_uri": "https://localhost:8080/"
        },
        "id": "4J-nd2OwQfnj",
        "outputId": "5e60f5d9-a11c-4469-b9ca-1cbfd8ffb234"
      },
      "execution_count": 8,
      "outputs": [
        {
          "output_type": "stream",
          "name": "stdout",
          "text": [
            "(15, 7)\n"
          ]
        }
      ]
    },
    {
      "cell_type": "markdown",
      "source": [
        "El entrenamiento se realizo borrando datos con costo mayores a 100.000"
      ],
      "metadata": {
        "id": "0zCKQ5BbbJRI"
      }
    },
    {
      "cell_type": "code",
      "source": [
        "prices=[]\n",
        "for x_t in X_test:\n",
        "    prices.append(int(np.dot(x_t, theta)))\n",
        "\n",
        "print('precios Predecidos (usando la ecuación de la normal): $')\n",
        "print(prices)\n"
      ],
      "metadata": {
        "colab": {
          "base_uri": "https://localhost:8080/"
        },
        "id": "PQMiqXo-So6e",
        "outputId": "0393f7e9-591d-45b5-859f-547fcbaaad6a"
      },
      "execution_count": 9,
      "outputs": [
        {
          "output_type": "stream",
          "name": "stdout",
          "text": [
            "precios Predecidos (usando la ecuación de la normal): $\n",
            "[22137, 18569, 13674, 6635, 24911, 8227, 13870, 24347, 20900, 24478, 6138, 15977, 5738, 8259, 21767]\n"
          ]
        }
      ]
    },
    {
      "cell_type": "code",
      "source": [
        "y_test"
      ],
      "metadata": {
        "colab": {
          "base_uri": "https://localhost:8080/"
        },
        "id": "Hr_gKPKVtzAo",
        "outputId": "383b862c-2d92-4066-a045-b15980d560e9"
      },
      "execution_count": 15,
      "outputs": [
        {
          "output_type": "execute_result",
          "data": {
            "text/plain": [
              "array([ 9800.,  8700.,  9700.,  9600.,  7000.,  9600.,  9100., 10200.,\n",
              "        9500.,  8300.,  8000.,  9500.,  7000.,  7000., 10300.])"
            ]
          },
          "metadata": {},
          "execution_count": 15
        }
      ]
    },
    {
      "cell_type": "markdown",
      "source": [
        "Probamos con todo los datos sin realizar el borrado de elementos con mayores a 100.000"
      ],
      "metadata": {
        "id": "p_rb3Z6hbbNb"
      }
    },
    {
      "cell_type": "code",
      "source": [
        "data = np.genfromtxt('/content/DATASET_autos_preparado_sin_borrar.csv', delimiter=',')\n",
        "X2, y2 = data[0:, 0:7], data[:,7]\n",
        "m = y2.size"
      ],
      "metadata": {
        "id": "Yr_-j1DXSY8w"
      },
      "execution_count": 10,
      "outputs": []
    },
    {
      "cell_type": "code",
      "source": [
        "X2 = np.concatenate([np.ones((m, 1)), X2], axis=1)"
      ],
      "metadata": {
        "id": "OTv_xjKhbv_d"
      },
      "execution_count": 11,
      "outputs": []
    },
    {
      "cell_type": "code",
      "source": [
        "theta2 = normalEqn(X2, y2);\n",
        "\n",
        "# Muestra los resultados optenidos a partir de la aplicación de la ecuación de la normal\n",
        "print('Theta calculado a partir de la ecuación de la normal: {:s}'.format(str(theta)));"
      ],
      "metadata": {
        "colab": {
          "base_uri": "https://localhost:8080/"
        },
        "id": "1AEI1-46cGqO",
        "outputId": "883c1a27-bd5e-4f6d-e109-2a97b52ec654"
      },
      "execution_count": 12,
      "outputs": [
        {
          "output_type": "stream",
          "name": "stdout",
          "text": [
            "Theta calculado a partir de la ecuación de la normal: [-1.43391774e+06 -3.09222447e+02  7.24037847e+02  2.36088822e+03\n",
            "  1.59198183e+03 -4.39810655e+03  4.03191390e+03 -3.66137303e+03]\n"
          ]
        }
      ]
    },
    {
      "cell_type": "code",
      "source": [
        "prices=[]\n",
        "for x_t in X_test:\n",
        "    prices.append(int(np.dot(x_t, theta2)))\n",
        "\n",
        "print('precios Predecidos (usando la ecuación de la normal): $')\n",
        "print(prices)"
      ],
      "metadata": {
        "colab": {
          "base_uri": "https://localhost:8080/"
        },
        "id": "2rkyonqYcOw1",
        "outputId": "07f3c24d-1592-43e0-f55c-7f0bbad38416"
      },
      "execution_count": 13,
      "outputs": [
        {
          "output_type": "stream",
          "name": "stdout",
          "text": [
            "precios Predecidos (usando la ecuación de la normal): $\n",
            "[66245, 72095, 58068, 21037, 52147, 37724, 63151, 75486, 68182, 60529, 20197, 47164, 9284, 58740, 68345]\n"
          ]
        }
      ]
    },
    {
      "cell_type": "code",
      "source": [
        "y_test"
      ],
      "metadata": {
        "colab": {
          "base_uri": "https://localhost:8080/"
        },
        "id": "7lEUaT9mFrAZ",
        "outputId": "0a2738a1-b9fc-4790-a734-c5ba15155e8a"
      },
      "execution_count": 14,
      "outputs": [
        {
          "output_type": "execute_result",
          "data": {
            "text/plain": [
              "array([ 9800.,  8700.,  9700.,  9600.,  7000.,  9600.,  9100., 10200.,\n",
              "        9500.,  8300.,  8000.,  9500.,  7000.,  7000., 10300.])"
            ]
          },
          "metadata": {},
          "execution_count": 14
        }
      ]
    },
    {
      "cell_type": "markdown",
      "source": [
        "intentamos resolver el problema con una regresion con datos normalizados "
      ],
      "metadata": {
        "id": "egq5UKrGusxP"
      }
    },
    {
      "cell_type": "code",
      "source": [
        "def  featureNormalize(X):\n",
        "    X_norm = X.copy()\n",
        "    mu = np.zeros(X.shape[1])\n",
        "    sigma = np.zeros(X.shape[1])\n",
        "\n",
        "    mu = np.mean(X, axis = 0)\n",
        "    sigma = np.std(X, axis = 0)\n",
        "    X_norm = (X - mu) / sigma\n",
        "    \n",
        "    return X_norm, mu, sigma"
      ],
      "metadata": {
        "id": "62lfh_UTuVFd"
      },
      "execution_count": 16,
      "outputs": []
    },
    {
      "cell_type": "code",
      "source": [
        "data = np.genfromtxt('/content/DATASET_autos_preparado.csv', delimiter=',')\n",
        "X_reg, y_reg = data[0:, 0:7], data[:,7]\n",
        "m = y_reg.size"
      ],
      "metadata": {
        "id": "rxYfXjLPwKpm"
      },
      "execution_count": 17,
      "outputs": []
    },
    {
      "cell_type": "code",
      "source": [
        "# llama featureNormalize con los datos cargados\n",
        "X_norm, mu, sigma = featureNormalize(X_reg)\n",
        "\n",
        "print('Media calculada:', mu)\n",
        "print('Desviación estandar calculada:', sigma)\n",
        "print(X_norm)"
      ],
      "metadata": {
        "colab": {
          "base_uri": "https://localhost:8080/"
        },
        "id": "m6oO77P-v8Rf",
        "outputId": "3b8be021-37e8-49b2-b815-ab41af330e43"
      },
      "execution_count": 18,
      "outputs": [
        {
          "output_type": "stream",
          "name": "stdout",
          "text": [
            "Media calculada: [1.21165480e+01 2.01168060e+03 1.92170819e+00 4.30516014e+00\n",
            " 1.43772242e+00 1.07473310e+00 1.85676157e+00]\n",
            "Desviación estandar calculada: [7.84422018 7.41057826 0.81528455 0.83853481 0.49610634 0.28876104\n",
            " 0.35031584]\n",
            "[[-1.28968181 -0.09184236  0.09603005 ...  1.13338116 -0.25880603\n",
            "   0.4088837 ]\n",
            " [-1.28968181  0.58286882  0.09603005 ... -0.88231571 -0.25880603\n",
            "  -2.44568323]\n",
            " [-1.28968181  0.58286882  1.32259567 ...  1.13338116 -0.25880603\n",
            "   0.4088837 ]\n",
            " ...\n",
            " [ 0.62255417 -1.44126472  0.09603005 ...  1.13338116 -0.25880603\n",
            "   0.4088837 ]\n",
            " [-0.01485782 -3.60034049 -1.13053557 ... -0.88231571 -0.25880603\n",
            "   0.4088837 ]\n",
            " [-0.01485782 -3.60034049 -1.13053557 ...  1.13338116 -0.25880603\n",
            "   0.4088837 ]]\n"
          ]
        }
      ]
    },
    {
      "cell_type": "code",
      "source": [
        "X_r = np.insert(X_norm,0, 1, axis=1)\n",
        "X_r"
      ],
      "metadata": {
        "colab": {
          "base_uri": "https://localhost:8080/"
        },
        "id": "lyACFrl8wioJ",
        "outputId": "12f17a96-63b9-4e4f-d357-17f8e961f660"
      },
      "execution_count": 19,
      "outputs": [
        {
          "output_type": "execute_result",
          "data": {
            "text/plain": [
              "array([[ 1.        , -1.28968181, -0.09184236, ...,  1.13338116,\n",
              "        -0.25880603,  0.4088837 ],\n",
              "       [ 1.        , -1.28968181,  0.58286882, ..., -0.88231571,\n",
              "        -0.25880603, -2.44568323],\n",
              "       [ 1.        , -1.28968181,  0.58286882, ...,  1.13338116,\n",
              "        -0.25880603,  0.4088837 ],\n",
              "       ...,\n",
              "       [ 1.        ,  0.62255417, -1.44126472, ...,  1.13338116,\n",
              "        -0.25880603,  0.4088837 ],\n",
              "       [ 1.        , -0.01485782, -3.60034049, ..., -0.88231571,\n",
              "        -0.25880603,  0.4088837 ],\n",
              "       [ 1.        , -0.01485782, -3.60034049, ...,  1.13338116,\n",
              "        -0.25880603,  0.4088837 ]])"
            ]
          },
          "metadata": {},
          "execution_count": 19
        }
      ]
    },
    {
      "cell_type": "code",
      "source": [
        "def calcularCosto(X, y, theta):\n",
        "  m = y.size\n",
        "  J = 0\n",
        "  h = np.dot(X, theta)\n",
        "  # print(h)\n",
        "  J = (1/(2 * m)) * np.sum(np.square(np.dot(X, theta) - y))\n",
        "  return J"
      ],
      "metadata": {
        "id": "CROarGf1wwyO"
      },
      "execution_count": 20,
      "outputs": []
    },
    {
      "cell_type": "code",
      "source": [
        "def calcularDescensoGradiente(X, y, theta, alpha, numero_iteraciones):\n",
        "  m = y.shape[0]\n",
        "  theta = theta.copy()\n",
        "  J_historico = []\n",
        "\n",
        "  for i in range(numero_iteraciones):\n",
        "    theta = theta - (alpha / m) * (np.dot(X, theta) - y).dot(X)\n",
        "    J_historico.append(calcularCosto(X, y, theta))\n",
        "  return theta, J_historico"
      ],
      "metadata": {
        "id": "6B44Skl-xBM4"
      },
      "execution_count": 21,
      "outputs": []
    },
    {
      "cell_type": "code",
      "source": [
        "theta = np.zeros(8)\n",
        "\n",
        "num_ite = 2000\n",
        "alpha = 0.003\n",
        "\n",
        "theta, J_historico = calcularDescensoGradiente(X_r, y_reg, theta, alpha, num_ite)\n",
        "print(f\"los valores de theta calculados son: { theta }\")\n",
        "print(f\"con un costo de: { J_historico[-1]} \")"
      ],
      "metadata": {
        "colab": {
          "base_uri": "https://localhost:8080/"
        },
        "id": "SU27WWlLxIps",
        "outputId": "168406fe-b0df-4ee1-b41d-1c157bf4eeae"
      },
      "execution_count": 30,
      "outputs": [
        {
          "output_type": "stream",
          "name": "stdout",
          "text": [
            "los valores de theta calculados son: [21418.05326995 -2411.77460673  5335.97455903  1918.97717309\n",
            "  1336.22011505 -2182.28003927  1156.9493525  -1296.9396697 ]\n",
            "con un costo de: 69227555.94827318 \n"
          ]
        }
      ]
    },
    {
      "cell_type": "code",
      "source": [
        "pyplot.plot(np.arange(len(J_historico)), J_historico, lw=3)\n",
        "pyplot.xlabel('Numero de iteraciones')\n",
        "pyplot.ylabel('Costo J')"
      ],
      "metadata": {
        "colab": {
          "base_uri": "https://localhost:8080/",
          "height": 308
        },
        "id": "5X0Fl7j0xd0-",
        "outputId": "5584ac4a-bd6e-433d-9236-d4228ed62fde"
      },
      "execution_count": 31,
      "outputs": [
        {
          "output_type": "execute_result",
          "data": {
            "text/plain": [
              "Text(0, 0.5, 'Costo J')"
            ]
          },
          "metadata": {},
          "execution_count": 31
        },
        {
          "output_type": "display_data",
          "data": {
            "image/png": "[encoded data removed]",
            "text/plain": [
              "<Figure size 432x288 with 1 Axes>"
            ]
          },
          "metadata": {
            "needs_background": "light"
          }
        }
      ]
    },
    {
      "cell_type": "code",
      "source": [
        ""
      ],
      "metadata": {
        "id": "NxXjGm60x7iE"
      },
      "execution_count": null,
      "outputs": []
    },
    {
      "cell_type": "code",
      "source": [
        "data_test = np.genfromtxt('/content/DATASET_TEST.csv', delimiter=',')\n",
        "X_test, y_test = data_test[0:, 0:7], data_test[:,7]\n",
        "m=y_test.size\n",
        "X_test = np.asarray(X_test)\n",
        "print(X_test.shape)\n"
      ],
      "metadata": {
        "colab": {
          "base_uri": "https://localhost:8080/"
        },
        "id": "c2_k5Stqx-HI",
        "outputId": "2ea506d3-7183-481b-b991-6c0fa6ed000b"
      },
      "execution_count": 41,
      "outputs": [
        {
          "output_type": "stream",
          "name": "stdout",
          "text": [
            "(15, 7)\n"
          ]
        }
      ]
    },
    {
      "cell_type": "code",
      "source": [
        "test_norm = (X_test - mu) / sigma\n",
        "test_norm = np.concatenate([np.ones((m, 1)), test_norm], axis=1)\n",
        "test_norm"
      ],
      "metadata": {
        "colab": {
          "base_uri": "https://localhost:8080/"
        },
        "id": "vCKsOI9RyuzJ",
        "outputId": "b00f5c7e-d02d-461b-993e-d5aa4dbf8fd7"
      },
      "execution_count": 42,
      "outputs": [
        {
          "output_type": "execute_result",
          "data": {
            "text/plain": [
              "array([[ 1.        , -0.90723461, -1.17138025,  1.32259567,  0.82863567,\n",
              "        -0.88231571, -0.25880603,  0.4088837 ],\n",
              "       [ 1.        ,  1.00500136, -0.09184236, -1.13053557,  0.82863567,\n",
              "        -0.88231571, -0.25880603,  0.4088837 ],\n",
              "       [ 1.        ,  1.76989575, -0.36172683, -1.13053557, -0.36392066,\n",
              "        -0.88231571, -0.25880603,  0.4088837 ],\n",
              "       [ 1.        ,  0.11262457, -1.30632248, -1.13053557, -1.55647699,\n",
              "         1.13338116, -0.25880603,  0.4088837 ],\n",
              "       [ 1.        , -1.03471701,  0.98769553, -1.13053557,  0.82863567,\n",
              "         1.13338116, -0.25880603,  0.4088837 ],\n",
              "       [ 1.        ,  0.11262457, -1.30632248, -1.13053557, -0.36392066,\n",
              "         1.13338116, -0.25880603,  0.4088837 ],\n",
              "       [ 1.        ,  2.02486055,  0.31298435, -1.13053557,  0.82863567,\n",
              "         1.13338116, -0.25880603,  0.4088837 ],\n",
              "       [ 1.        ,  1.38744856,  0.71781106,  0.09603005,  0.82863567,\n",
              "        -0.88231571, -0.25880603,  0.4088837 ],\n",
              "       [ 1.        , -0.39730502, -1.17138025,  1.32259567,  0.82863567,\n",
              "        -0.88231571, -0.25880603,  0.4088837 ],\n",
              "       [ 1.        , -0.90723461, -0.22678459,  0.09603005,  0.82863567,\n",
              "         1.13338116,  3.20426508,  0.4088837 ],\n",
              "       [ 1.        ,  0.87751896, -1.57620695, -1.13053557, -2.74903332,\n",
              "        -0.88231571, -0.25880603,  0.4088837 ],\n",
              "       [ 1.        ,  1.76989575, -0.09184236, -1.13053557,  0.82863567,\n",
              "         1.13338116, -0.25880603, -2.44568323],\n",
              "       [ 1.        ,  0.87751896, -1.71114919,  1.32259567, -2.74903332,\n",
              "         1.13338116, -0.25880603,  0.4088837 ],\n",
              "       [ 1.        ,  1.76989575, -2.25091813,  1.32259567, -0.36392066,\n",
              "        -0.88231571, -0.25880603,  0.4088837 ],\n",
              "       [ 1.        , -0.01485782,  0.04309988, -1.13053557,  0.82863567,\n",
              "        -0.88231571, -0.25880603,  0.4088837 ]])"
            ]
          },
          "metadata": {},
          "execution_count": 42
        }
      ]
    },
    {
      "cell_type": "code",
      "source": [
        "y_pred = np.dot(test_norm, theta)\n",
        "y_preds=[]\n",
        "for ypred in y_pred:\n",
        "    y_preds.append(int(ypred))\n",
        "print(y_preds)"
      ],
      "metadata": {
        "colab": {
          "base_uri": "https://localhost:8080/"
        },
        "id": "sR7K8Jx8zBwK",
        "outputId": "7c15790d-1f42-473e-e8cb-28b15f39cdc3"
      },
      "execution_count": 45,
      "outputs": [
        {
          "output_type": "stream",
          "name": "stdout",
          "text": [
            "[22096, 18537, 13659, 6623, 24818, 8217, 13839, 24289, 20866, 24391, 6144, 15996, 5732, 8286, 21717]\n"
          ]
        }
      ]
    },
    {
      "cell_type": "code",
      "source": [
        "y_test"
      ],
      "metadata": {
        "colab": {
          "base_uri": "https://localhost:8080/"
        },
        "id": "ObqMrsoZ0Wve",
        "outputId": "3121daef-bbd1-4ff1-9780-35e3cb076e8d"
      },
      "execution_count": 46,
      "outputs": [
        {
          "output_type": "execute_result",
          "data": {
            "text/plain": [
              "array([ 9800.,  8700.,  9700.,  9600.,  7000.,  9600.,  9100., 10200.,\n",
              "        9500.,  8300.,  8000.,  9500.,  7000.,  7000., 10300.])"
            ]
          },
          "metadata": {},
          "execution_count": 46
        }
      ]
    }
  ]
}