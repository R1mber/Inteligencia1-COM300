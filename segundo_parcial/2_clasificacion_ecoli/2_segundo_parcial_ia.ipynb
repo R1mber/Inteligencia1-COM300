{
  "nbformat": 4,
  "nbformat_minor": 0,
  "metadata": {
    "colab": {
      "name": "2_segundo_parcial_ia.ipynb",
      "provenance": [],
      "collapsed_sections": []
    },
    "kernelspec": {
      "name": "python3",
      "display_name": "Python 3"
    },
    "language_info": {
      "name": "python"
    }
  },
  "cells": [
    {
      "cell_type": "code",
      "execution_count": 1,
      "metadata": {
        "id": "UIJE69b7GVIa"
      },
      "outputs": [],
      "source": [
        "import os\n",
        "import numpy as np\n",
        "from matplotlib import pyplot\n",
        "# Modulo de optimizacion en scipy\n",
        "from scipy import optimize\n",
        "# le dice a matplotlib que incruste gráficos en el cuaderno\n",
        "%matplotlib inline"
      ]
    },
    {
      "cell_type": "code",
      "source": [
        ""
      ],
      "metadata": {
        "id": "ky9aFvQW3c_t"
      },
      "execution_count": null,
      "outputs": []
    },
    {
      "cell_type": "markdown",
      "source": [
        "tenemos 8 clases en formato Srt\n",
        "cargamos los datos y reemplazamos los datos por numeros\n",
        "1. cp = 1\n",
        "2. im = 2\n",
        "3. pp = 3\n",
        "4. imU= 4\n",
        "5. om = 5\n",
        "6. omL= 6\n",
        "7. imL= 7\n",
        "8. imS= 8\n",
        "\n",
        "---\n",
        "\n",
        "\n",
        " cp (citoplasma) 143 \n",
        "im (membrana interna sin secuencia de señal) 77 \n",
        "pp (perisplasma) 52\n",
        "imU (membrana interna, secuencia de señales no escindible) 35\n",
        "om (membrana exterior) 20\n",
        "omL (lipoproteína de la membrana externa) 5\n",
        "imL (lipoproteína de la membrana interna) 2\n",
        "imS (membrana interna, secuencia de señal escindible) 2"
      ],
      "metadata": {
        "id": "KrwubqcYzQSo"
      }
    },
    {
      "cell_type": "code",
      "source": [
        "data = np.loadtxt('ecoli.csv', delimiter=',', dtype=str)\n",
        "\n",
        "\"\"\"\n",
        "los datos se cargaron en formator string\n",
        "cp = 1 im = 2 pp = 3 imU= 4 om = 5 omL= 6 imL= 7 imS= 8\n",
        "\"\"\"\n",
        "new_Data = np.where(data[:,0:8]=='cp', 1,data[:,0:8])\n",
        "new_Data = np.where(new_Data[:,0:8]=='im', 2,new_Data[:,0:8])\n",
        "new_Data = np.where(new_Data[:,0:8]=='pp', 3,new_Data[:,0:8])\n",
        "new_Data = np.where(new_Data[:,0:8]=='imU', 4,new_Data[:,0:8])\n",
        "new_Data = np.where(new_Data[:,0:8]=='om', 5,new_Data[:,0:8])\n",
        "new_Data = np.where(new_Data[:,0:8]=='omL', 6,new_Data[:,0:8])\n",
        "new_Data = np.where(new_Data[:,0:8]=='imL', 7,new_Data[:,0:8])\n",
        "new_Data = np.where(new_Data[:,0:8]=='imS', 8,new_Data[:,0:8])\n"
      ],
      "metadata": {
        "id": "3UDN-YNasv8z"
      },
      "execution_count": 2,
      "outputs": []
    },
    {
      "cell_type": "code",
      "source": [
        "data_test = np.loadtxt('ecoli_test.csv', delimiter=',', dtype=str)\n",
        "\n",
        "\"\"\"\n",
        "los datos se cargaron en formator string\n",
        "cp = 1 im = 2 pp = 3 imU= 4 om = 5 omL= 6 imL= 7 imS= 8\n",
        "\"\"\"\n",
        "new_Data_test = np.where(data_test[:,0:8]=='cp', 1,data_test[:,0:8])\n",
        "new_Data_test = np.where(new_Data_test[:,0:8]=='im', 2,new_Data_test[:,0:8])\n",
        "new_Data_test = np.where(new_Data_test[:,0:8]=='pp', 3,new_Data_test[:,0:8])\n",
        "new_Data_test = np.where(new_Data_test[:,0:8]=='imU', 4,new_Data_test[:,0:8])\n",
        "new_Data_test = np.where(new_Data_test[:,0:8]=='om', 5,new_Data_test[:,0:8])\n",
        "new_Data_test = np.where(new_Data_test[:,0:8]=='omL', 6,new_Data_test[:,0:8])\n",
        "new_Data_test = np.where(new_Data_test[:,0:8]=='imL', 7,new_Data_test[:,0:8])\n",
        "new_Data_test = np.where(new_Data_test[:,0:8]=='imS', 8,new_Data_test[:,0:8])\n"
      ],
      "metadata": {
        "id": "3iJE1USJu-Nu"
      },
      "execution_count": 3,
      "outputs": []
    },
    {
      "cell_type": "code",
      "source": [
        "y = new_Data[:,7]\n",
        "y_test = new_Data_test[:,7]\n",
        "print(y.shape)\n",
        "print(y)"
      ],
      "metadata": {
        "colab": {
          "base_uri": "https://localhost:8080/"
        },
        "id": "hGP-3hgB2L4s",
        "outputId": "85fb27b4-8414-441a-e4bd-fd6b5007f227"
      },
      "execution_count": 4,
      "outputs": [
        {
          "output_type": "stream",
          "name": "stdout",
          "text": [
            "(319,)\n",
            "['1' '1' '1' '1' '1' '1' '1' '1' '1' '1' '1' '1' '1' '1' '1' '1' '1' '1'\n",
            " '1' '1' '1' '1' '1' '1' '1' '1' '1' '1' '1' '1' '1' '1' '1' '1' '1' '1'\n",
            " '1' '1' '1' '1' '1' '1' '1' '1' '1' '1' '1' '1' '1' '1' '1' '1' '1' '1'\n",
            " '1' '1' '1' '1' '1' '1' '1' '1' '1' '1' '1' '1' '1' '1' '1' '1' '1' '1'\n",
            " '1' '1' '1' '1' '1' '1' '1' '1' '1' '1' '1' '1' '1' '1' '1' '1' '1' '1'\n",
            " '1' '1' '1' '1' '1' '1' '1' '1' '1' '1' '1' '1' '1' '1' '1' '1' '1' '1'\n",
            " '1' '1' '1' '1' '1' '1' '1' '1' '1' '1' '1' '1' '1' '1' '1' '1' '1' '1'\n",
            " '1' '1' '1' '1' '1' '1' '1' '2' '2' '2' '2' '2' '2' '2' '2' '2' '2' '2'\n",
            " '2' '2' '2' '2' '2' '2' '2' '2' '2' '2' '2' '2' '2' '2' '2' '2' '2' '2'\n",
            " '2' '2' '2' '2' '2' '2' '2' '2' '2' '2' '2' '2' '2' '2' '2' '2' '2' '2'\n",
            " '2' '2' '2' '2' '2' '2' '2' '2' '2' '2' '2' '2' '2' '2' '2' '2' '2' '2'\n",
            " '2' '2' '2' '2' '2' '2' '2' '8' '8' '7' '7' '4' '4' '4' '4' '4' '4' '4'\n",
            " '4' '4' '4' '4' '4' '4' '4' '4' '4' '4' '4' '4' '4' '4' '4' '4' '4' '4'\n",
            " '4' '4' '4' '4' '4' '4' '4' '4' '4' '4' '5' '5' '5' '5' '5' '5' '5' '5'\n",
            " '5' '5' '5' '5' '5' '5' '5' '5' '5' '5' '5' '5' '6' '6' '6' '6' '6' '3'\n",
            " '3' '3' '3' '3' '3' '3' '3' '3' '3' '3' '3' '3' '3' '3' '3' '3' '3' '3'\n",
            " '3' '3' '3' '3' '3' '3' '3' '3' '3' '3' '3' '3' '3' '3' '3' '3' '3' '3'\n",
            " '3' '3' '3' '3' '3' '3' '3' '3' '3' '3' '3' '3' '3']\n"
          ]
        }
      ]
    },
    {
      "cell_type": "code",
      "source": [
        "X = new_Data[:,0:7]\n",
        "X_test = new_Data_test[:,0:7]\n",
        "print(X.shape)\n",
        "print(X)"
      ],
      "metadata": {
        "colab": {
          "base_uri": "https://localhost:8080/"
        },
        "id": "0B_F3qir2dxE",
        "outputId": "e50e11c4-e3a5-4c8d-ebe0-a9e96dca135e"
      },
      "execution_count": 5,
      "outputs": [
        {
          "output_type": "stream",
          "name": "stdout",
          "text": [
            "(319, 7)\n",
            "[['0.42' '0.24' '0.48' ... '0.57' '0.27' '0.37']\n",
            " ['0.25' '0.48' '0.48' ... '0.44' '0.17' '0.29']\n",
            " ['0.39' '0.32' '0.48' ... '0.46' '0.24' '0.35']\n",
            " ...\n",
            " ['0.61' '0.60' '0.48' ... '0.44' '0.39' '0.38']\n",
            " ['0.59' '0.61' '0.48' ... '0.42' '0.42' '0.37']\n",
            " ['0.74' '0.74' '0.48' ... '0.31' '0.53' '0.52']]\n"
          ]
        }
      ]
    },
    {
      "cell_type": "code",
      "source": [
        "#convertimos los datos de X , Y a punto flotante \n",
        "X = np.asarray(X, dtype=np.float64)\n",
        "y = np.asarray(y, dtype=np.float64)\n",
        "\n",
        "#datos de prueba\n",
        "X_test = np.asarray(X_test, dtype=np.float64)\n",
        "y_test = np.asarray(y_test, dtype=np.float64)"
      ],
      "metadata": {
        "id": "O-iGNsOh3sx0"
      },
      "execution_count": 6,
      "outputs": []
    },
    {
      "cell_type": "code",
      "source": [
        ""
      ],
      "metadata": {
        "id": "y-zRj66QwDZd"
      },
      "execution_count": 6,
      "outputs": []
    },
    {
      "cell_type": "code",
      "source": [
        "#definimos la cantidad de clases \n",
        "input_layer_size  = 7\n",
        "num_labels = 8\n",
        "m = y.size"
      ],
      "metadata": {
        "id": "BPSSdNin52bB"
      },
      "execution_count": 7,
      "outputs": []
    },
    {
      "cell_type": "code",
      "source": [
        ""
      ],
      "metadata": {
        "id": "1n4igNSG9rA3"
      },
      "execution_count": 7,
      "outputs": []
    },
    {
      "cell_type": "code",
      "source": [
        "def calcularSigmoide(z):\n",
        "    # Calcula la sigmoide de z.\n",
        "    return 1.0 / (1.0 + np.exp(-z))"
      ],
      "metadata": {
        "id": "ANNRvf5l9PBl"
      },
      "execution_count": 8,
      "outputs": []
    },
    {
      "cell_type": "code",
      "source": [
        "def calcularCosto(theta, X, y, lambda_):\n",
        "    # Inicializa algunos valores utiles\n",
        "    m = y.size\n",
        "    \n",
        "    # convierte las etiquetas a valores enteros si son boleanos\n",
        "    if y.dtype == bool:\n",
        "        y = y.astype(int)\n",
        "    \n",
        "    J = 0\n",
        "    grad = np.zeros(theta.shape)\n",
        "    \n",
        "    h = calcularSigmoide(X.dot(theta.T))\n",
        "    \n",
        "    temp = theta\n",
        "    temp[0] = 0\n",
        "    \n",
        "    J = (1 / m) * np.sum(-y.dot(np.log(h)) - (1 - y).dot(np.log(1 - h))) + (lambda_ / (2 * m)) * np.sum(np.square(temp))\n",
        "    \n",
        "    grad = (1 / m) * (h - y).dot(X)\n",
        "    # Se aplica regularizacion en la siguiente linea \n",
        "    grad = grad + (lambda_ / m) * temp\n",
        "\n",
        "    return J, grad"
      ],
      "metadata": {
        "id": "k378mBvD9jdG"
      },
      "execution_count": 9,
      "outputs": []
    },
    {
      "cell_type": "code",
      "source": [
        "def oneVsAll(X, y, num_labels, lambda_):\n",
        "\n",
        "    m, n = X.shape\n",
        "    \n",
        "    all_theta = np.zeros((num_labels, n + 1))\n",
        "\n",
        "    # Agrega unos a la matriz X\n",
        "    X = np.concatenate([np.ones((m, 1)), X], axis=1)\n",
        "\n",
        "\n",
        "    for c in np.arange(num_labels):\n",
        "        initial_theta = np.zeros(n + 1)\n",
        "        options = {'maxiter': 10000}\n",
        "        res = optimize.minimize(calcularCosto, \n",
        "                                initial_theta, \n",
        "                                (X, (y == (c + 1)), lambda_), \n",
        "                                jac=True, \n",
        "                                method='BFGS',\n",
        "                                options=options) \n",
        "        \n",
        "        all_theta[c] = res.x\n",
        "\n",
        "    return all_theta"
      ],
      "metadata": {
        "id": "lHcnIAsxuBvX"
      },
      "execution_count": 10,
      "outputs": []
    },
    {
      "cell_type": "code",
      "source": [
        "lambda_ = 0.01\n",
        "all_theta = oneVsAll(X, y, num_labels, lambda_)\n"
      ],
      "metadata": {
        "id": "JgBgyLINuDdP"
      },
      "execution_count": 11,
      "outputs": []
    },
    {
      "cell_type": "code",
      "source": [
        "print(all_theta)"
      ],
      "metadata": {
        "colab": {
          "base_uri": "https://localhost:8080/"
        },
        "id": "NZZT70EVulzC",
        "outputId": "df637347-d65c-4a8f-c33a-3ef4d94869a8"
      },
      "execution_count": 12,
      "outputs": [
        {
          "output_type": "stream",
          "name": "stdout",
          "text": [
            "[[ 1.72772609e+01 -5.59964387e+00 -9.77557450e+00 -1.24970939e+00\n",
            "  -5.72768966e-01 -4.42259544e+00 -2.39039008e+01  8.61105127e+00]\n",
            " [-7.18052513e+00 -8.51016317e+00  2.66615143e+00 -3.01674405e+00\n",
            "  -2.44224098e-02  1.05523981e+00  1.53791284e+01  1.06604017e+00]\n",
            " [-1.45058496e+00  6.93400697e+00  1.01690030e+01 -7.18077661e+00\n",
            "  -1.21438438e+00 -8.03660416e+00 -1.94183168e+00 -2.51251165e+00]\n",
            " [-8.00933901e+00  1.06597510e+01 -5.58456516e+00 -4.12590411e-01\n",
            "  -1.42830211e+00 -2.18405291e-01 -4.69655064e-01  5.67773663e+00]\n",
            " [-1.97488264e+01  5.24277506e+00  9.55813005e+00 -1.45062406e+00\n",
            "  -1.48771829e-02  2.26949257e+01 -4.36882401e+00 -6.27010078e+00]\n",
            " [-7.57984534e+00  4.03979074e+00 -4.48564669e+00  1.32816368e+01\n",
            "  -6.46700079e+00  7.19314836e-01  1.75474100e+00 -9.47795182e+00]\n",
            " [-1.89984394e+01  4.74781064e+00 -4.33633863e+00  1.03834334e+01\n",
            "   8.57986705e+00 -3.82894981e+00  1.61777875e+00  4.00456589e+00]\n",
            " [-7.01723772e+00  7.28735305e+00 -2.20448829e+00 -2.43106846e+00\n",
            "  -2.37550868e-01 -2.26191122e-01  1.54884293e+00 -1.52694105e+00]]\n"
          ]
        }
      ]
    },
    {
      "cell_type": "code",
      "source": [
        "def predictOneVsAll(all_theta, X):\n",
        "    m = X.shape[0];\n",
        "    num_labels = all_theta.shape[0]\n",
        "\n",
        "    p = np.zeros(m)\n",
        "\n",
        "    # Add ones to the X data matrix\n",
        "    X = np.concatenate([np.ones((m, 1)), X], axis=1)\n",
        "    p = np.argmax(calcularSigmoide(X.dot(all_theta.T)), axis = 1)\n",
        "\n",
        "    return p + 1"
      ],
      "metadata": {
        "id": "Vr0aRo5wusBI"
      },
      "execution_count": 13,
      "outputs": []
    },
    {
      "cell_type": "code",
      "source": [
        "print(X.shape)\n",
        "pred = predictOneVsAll(all_theta, X)\n",
        "print('Precision del conjuto de entrenamiento: {:.2f}%'.format(np.mean(pred == y) * 100))"
      ],
      "metadata": {
        "colab": {
          "base_uri": "https://localhost:8080/"
        },
        "id": "y_7M2TkswxaD",
        "outputId": "06416b32-6d69-4db7-8abc-132a8dfdb54a"
      },
      "execution_count": 14,
      "outputs": [
        {
          "output_type": "stream",
          "name": "stdout",
          "text": [
            "(319, 7)\n",
            "Precision del conjuto de entrenamiento: 88.71%\n"
          ]
        }
      ]
    },
    {
      "cell_type": "code",
      "source": [
        "XPrueba = X_test.copy()\n",
        "yPrueba = y_test.copy()\n",
        "\n",
        "print(XPrueba.shape)\n",
        "print(len(XPrueba))\n",
        "\n",
        "m, n = X_test.shape\n"
      ],
      "metadata": {
        "colab": {
          "base_uri": "https://localhost:8080/"
        },
        "id": "ReXoHzAg1dc9",
        "outputId": "12aade5e-82ac-4943-f85f-af9cf3efde5a"
      },
      "execution_count": 36,
      "outputs": [
        {
          "output_type": "stream",
          "name": "stdout",
          "text": [
            "(17, 7)\n",
            "17\n"
          ]
        }
      ]
    },
    {
      "cell_type": "markdown",
      "source": [
        "cp = 1 im = 2 pp = 3 imU= 4 om = 5 omL= 6 imL= 7 imS= 8"
      ],
      "metadata": {
        "id": "mmDyReya2Bkv"
      }
    },
    {
      "cell_type": "code",
      "source": [
        "XPrueba = np.concatenate((np.ones((m, 1)), XPrueba), axis=1)\n",
        "\n",
        "p = np.argmax(calcularSigmoide(XPrueba.dot(all_theta.T)), axis = 1)\n",
        "print(p + 1)"
      ],
      "metadata": {
        "colab": {
          "base_uri": "https://localhost:8080/"
        },
        "id": "Z0evUBrV12d1",
        "outputId": "a9e74e61-ba24-4a71-fd14-b0237ece9305"
      },
      "execution_count": 37,
      "outputs": [
        {
          "output_type": "stream",
          "name": "stdout",
          "text": [
            "[1 1 1 1 1 1 1 1 1 1 1 2 2 2 2 3 3]\n"
          ]
        }
      ]
    },
    {
      "cell_type": "code",
      "source": [
        "yPrueba"
      ],
      "metadata": {
        "colab": {
          "base_uri": "https://localhost:8080/"
        },
        "id": "Ru2tmqcbKq17",
        "outputId": "e47ba18d-e29b-4cfe-97b7-cba96e2ebd94"
      },
      "execution_count": 39,
      "outputs": [
        {
          "output_type": "execute_result",
          "data": {
            "text/plain": [
              "array([1., 1., 1., 1., 1., 1., 1., 1., 1., 1., 2., 2., 2., 2., 2., 3., 3.])"
            ]
          },
          "metadata": {},
          "execution_count": 39
        }
      ]
    }
  ]
}